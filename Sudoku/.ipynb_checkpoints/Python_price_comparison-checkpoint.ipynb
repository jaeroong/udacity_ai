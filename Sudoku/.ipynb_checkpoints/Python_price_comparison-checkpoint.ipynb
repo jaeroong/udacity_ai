{
 "cells": [
  {
   "cell_type": "code",
   "execution_count": 3,
   "metadata": {
    "collapsed": false
   },
   "outputs": [
    {
     "ename": "ModuleNotFoundError",
     "evalue": "No module named 'bs4'",
     "output_type": "error",
     "traceback": [
      "\u001b[1;31m---------------------------------------------------------------------------\u001b[0m",
      "\u001b[1;31mModuleNotFoundError\u001b[0m                       Traceback (most recent call last)",
      "\u001b[1;32m<ipython-input-3-2d0aa99cd42d>\u001b[0m in \u001b[0;36m<module>\u001b[1;34m()\u001b[0m\n\u001b[0;32m      1\u001b[0m \u001b[1;32mimport\u001b[0m \u001b[0mebaysdk\u001b[0m\u001b[1;33m,\u001b[0m \u001b[0mos\u001b[0m\u001b[1;33m\u001b[0m\u001b[0m\n\u001b[0;32m      2\u001b[0m \u001b[1;31m# from ebaysdk.finding import Connection as finding\u001b[0m\u001b[1;33m\u001b[0m\u001b[1;33m\u001b[0m\u001b[0m\n\u001b[1;32m----> 3\u001b[1;33m \u001b[1;32mfrom\u001b[0m \u001b[0mbs4\u001b[0m \u001b[1;32mimport\u001b[0m \u001b[0mBeautifulSoup\u001b[0m\u001b[1;33m\u001b[0m\u001b[0m\n\u001b[0m",
      "\u001b[1;31mModuleNotFoundError\u001b[0m: No module named 'bs4'"
     ]
    }
   ],
   "source": [
    "import ebaysdk, os\n",
    "# from ebaysdk.finding import Connection as finding\n",
    "# from bs4 import BeautifulSoup"
   ]
  },
  {
   "cell_type": "code",
   "execution_count": null,
   "metadata": {
    "collapsed": true
   },
   "outputs": [],
   "source": []
  },
  {
   "cell_type": "code",
   "execution_count": null,
   "metadata": {
    "collapsed": true
   },
   "outputs": [],
   "source": [
    "from ebaysdk.finding import Connection as finding\n",
    "from bs4 import BeautifulSoup\n",
    "\n",
    "ID_APP = 'YOUR EBAY DEVELOPERS APP-ID GOES HERE.'\n",
    "\n",
    "Keywords = input('what are you searching for? (ex: white piano)\\n')\n",
    "api = finding(appid=ID_APP, config_file=None)\n",
    "api_request = { 'keywords': Keywords }\n",
    "response = api.execute('findItemsByKeywords', api_request)\n",
    "soup = BeautifulSoup(response.content,'lxml')\n",
    "\n",
    "totalentries = int(soup.find('totalentries').text)\n",
    "items = soup.find_all('item')\n",
    "\n",
    "for item in items: cat = item.categoryname.string.lower() title = item.title.string.lower() price = int(round(float(item.currentprice.string))) url = item.viewitemurl.string.lower() print('________') print('cat:\\n' + cat + '\\n') print('title:\\n' + title + '\\n') print('price:\\n' + str(price) + '\\n') print('url:\\n' + url + '\\n') input()"
   ]
  }
 ],
 "metadata": {
  "kernelspec": {
   "display_name": "Python 3",
   "language": "python",
   "name": "python3"
  },
  "language_info": {
   "codemirror_mode": {
    "name": "ipython",
    "version": 3
   },
   "file_extension": ".py",
   "mimetype": "text/x-python",
   "name": "python",
   "nbconvert_exporter": "python",
   "pygments_lexer": "ipython3",
   "version": "3.6.0"
  }
 },
 "nbformat": 4,
 "nbformat_minor": 2
}
